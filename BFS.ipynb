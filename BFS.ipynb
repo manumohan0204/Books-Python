{
  "nbformat": 4,
  "nbformat_minor": 0,
  "metadata": {
    "colab": {
      "provenance": [],
      "authorship_tag": "ABX9TyP1fU9g3qsrUKO9gU/P+Bxd",
      "include_colab_link": true
    },
    "kernelspec": {
      "name": "python3",
      "display_name": "Python 3"
    },
    "language_info": {
      "name": "python"
    }
  },
  "cells": [
    {
      "cell_type": "markdown",
      "metadata": {
        "id": "view-in-github",
        "colab_type": "text"
      },
      "source": [
        "<a href=\"https://colab.research.google.com/github/manumohan0204/Books-Python/blob/main/BFS.ipynb\" target=\"_parent\"><img src=\"https://colab.research.google.com/assets/colab-badge.svg\" alt=\"Open In Colab\"/></a>"
      ]
    },
    {
      "cell_type": "code",
      "execution_count": 2,
      "metadata": {
        "id": "k-wIt82D9xQZ"
      },
      "outputs": [],
      "source": [
        "from queue import Queue\n",
        "adj_list={\n",
        "    \"A\":[\"B\",\"D\"],\n",
        "    \"B\":[\"A\",\"C\"],\n",
        "    \"C\":[\"B\"],\n",
        "    \"D\":[\"A\",\"E\",\"F\"],\n",
        "    \"E\":[\"D\",\"F\",\"G\"],\n",
        "    \"F\":[\"D\",\"E\",\"H\"],\n",
        "    \"G\":[\"E\",\"H\"],\n",
        "    \"H\":[\"G\",\"H\"]\n",
        "\n",
        "}"
      ]
    },
    {
      "cell_type": "code",
      "source": [
        "visited={}\n",
        "level={}\n",
        "parent={}\n",
        "bfs_traversal_ouput=[]\n",
        "queue=Queue()\n",
        "for node in adj_list.keys():\n",
        "  visited[node]=False\n",
        "  parent[node]=None\n",
        "  level[node]=-1\n",
        "print(visited)\n",
        "print(level)\n",
        "print(parent)\n",
        "s=\"A\"\n",
        "visited[s]=True\n",
        "level[s]=0\n",
        "queue.put(s)\n",
        "while not queue.empty():\n",
        "  u=queue.get()\n",
        "  bfs_traversal_ouput.append(u)\n",
        "  for v in adj_list[u]:\n",
        "    if not visited[v]:\n",
        "      visited[v]=True\n",
        "      parent[v]=u\n",
        "      level[v]=level[u]+1\n",
        "      queue.put(v)\n",
        "print(bfs_traversal_ouput)"
      ],
      "metadata": {
        "colab": {
          "base_uri": "https://localhost:8080/"
        },
        "id": "1U-F19nu_VA_",
        "outputId": "8784afa2-4abc-4ad8-8863-ab133ee8a44d"
      },
      "execution_count": 10,
      "outputs": [
        {
          "output_type": "stream",
          "name": "stdout",
          "text": [
            "{'A': False, 'B': False, 'C': False, 'D': False, 'E': False, 'F': False, 'G': False, 'H': False}\n",
            "{'A': -1, 'B': -1, 'C': -1, 'D': -1, 'E': -1, 'F': -1, 'G': -1, 'H': -1}\n",
            "{'A': None, 'B': None, 'C': None, 'D': None, 'E': None, 'F': None, 'G': None, 'H': None}\n",
            "['A', 'B', 'D', 'C', 'E', 'F', 'G', 'H']\n"
          ]
        }
      ]
    },
    {
      "cell_type": "code",
      "source": [
        "print(level[\"G\"])"
      ],
      "metadata": {
        "colab": {
          "base_uri": "https://localhost:8080/"
        },
        "id": "SHYzD1syApRr",
        "outputId": "4a1989de-f542-43d0-d5a5-b49c4a78eb9f"
      },
      "execution_count": 11,
      "outputs": [
        {
          "output_type": "stream",
          "name": "stdout",
          "text": [
            "3\n"
          ]
        }
      ]
    },
    {
      "cell_type": "code",
      "source": [
        "v=\"G\"\n",
        "path=[]\n",
        "while v is not None:\n",
        "  path.append(v)\n",
        "  v=parent[v]\n",
        "path.reverse()\n",
        "print (path)"
      ],
      "metadata": {
        "colab": {
          "base_uri": "https://localhost:8080/"
        },
        "id": "HUbNaabYFbPx",
        "outputId": "2f94c92f-fdb0-4439-822b-7239d6f9de02"
      },
      "execution_count": 14,
      "outputs": [
        {
          "output_type": "stream",
          "name": "stdout",
          "text": [
            "['A', 'D', 'E', 'G']\n"
          ]
        }
      ]
    }
  ]
}